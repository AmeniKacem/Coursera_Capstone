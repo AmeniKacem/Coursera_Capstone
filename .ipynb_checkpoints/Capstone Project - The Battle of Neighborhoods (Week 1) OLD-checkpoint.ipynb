{
 "cells": [
  {
   "cell_type": "markdown",
   "metadata": {},
   "source": [
    "# Assignment: Capstone Project - The Battle of Neighborhoods (Week 1)"
   ]
  },
  {
   "cell_type": "markdown",
   "metadata": {},
   "source": [
    "## 1.Introduction & Business Problem"
   ]
  },
  {
   "cell_type": "markdown",
   "metadata": {},
   "source": [
    "### 1.1. Background"
   ]
  },
  {
   "cell_type": "markdown",
   "metadata": {},
   "source": [
    "Road accidents have impact on different countries in different ways such as socially and economically... It is curtial to analyze the road accidents in order to prevent and reduce them. \n",
    "\n",
    "The alarming increase in morbidity and mortality owing to road traffic accidents makes it highly important to analyze such phenomena, locate the places where they accure and explore them and their features."
   ]
  },
  {
   "cell_type": "markdown",
   "metadata": {},
   "source": [
    "### 1.2. Problem Description"
   ]
  },
  {
   "cell_type": "markdown",
   "metadata": {},
   "source": [
    "This type of analysis can help to have an overview and in-depth analysis of the road accidents and the reason behind it in a way to exmine and evaluate the risk of certain roades / places. More precisely, the following questions could be adressed:\n",
    "\n",
    "- How has changing traffic flow impacted accidents?\n",
    "- Can we predict accident rates over time? What might improve accident rates?\n",
    "- Which areas never change and why? Identify infrastructure needs, failings and successes."
   ]
  },
  {
   "cell_type": "markdown",
   "metadata": {},
   "source": [
    "### 1.3. Data"
   ]
  },
  {
   "cell_type": "markdown",
   "metadata": {},
   "source": [
    "The dataset that will be used in this project is the 1.6 million UK traffic accidents, available via this link: https://www.kaggle.com/daveianhickey/2000-16-traffic-flow-england-scotland-wales\n",
    "\n",
    "The UK government amassed traffic data from 2000 and 2016, recording over 1.6 million accidents in the process and making this one of the most comprehensive traffic data sets out there. It's a huge picture of a country undergoing change. \n",
    "\n",
    "This dataset will be used to explore the accidents, places and their characteristics in order to provide and insight of places with high frequency of accidents.\n",
    "\n"
   ]
  },
  {
   "cell_type": "markdown",
   "metadata": {},
   "source": [
    "#### **The dataset contains the following characteristics:**\n",
    "\n",
    "**Information regarding the location:**\n",
    "- 'Location_Easting_OSGR'\n",
    "- 'Location_Northing_OSGR'\n",
    "- 'Longitude'\n",
    "- 'Latitude'\n",
    "\n",
    "**nformation regarding the importance of the accident:**\n",
    "- 'Police_Force',\n",
    "- 'Accident_Severity'\n",
    "- 'Number_of_Vehicles'\n",
    "- 'Number_of_Casualties'\n",
    "\n",
    "**Information regarding the date:**\n",
    "- 'Date'\n",
    "- 'Day_of_Week'\n",
    "- 'Time'\n",
    "\n",
    "**Information regarding the authorities:**\n",
    "- 'Local_Authority_(District)'\n",
    "- 'Local_Authority_(Highway)'\n",
    "\n",
    "**Information regarding the authorities:**\n",
    "- '1st_Road_Class'\n",
    "- '1st_Road_Number'\n",
    "- 'Road_Type'\n",
    "- 'Speed_limit'\n",
    "- 'Junction_Detail'\n",
    "- 'Junction_Control'\n",
    "- '2nd_Road_Class'\n",
    "- '2nd_Road_Number'\n",
    "- 'Pedestrian_Crossing-Human_Control'\n",
    "- 'Pedestrian_Crossing-Physical_Facilities'\n",
    "\n",
    "**Information regarding the conditions of the accident:**\n",
    "- 'Light_Conditions'\n",
    "- 'Weather_Conditions'\n",
    "- 'Road_Surface_Conditions'\n",
    "- 'Special_Conditions_at_Site'\n",
    "- 'Carriageway_Hazards'\n",
    "- 'Urban_or_Rural_Area'\n",
    "- 'Did_Police_Officer_Attend_Scene_of_Accident'\n",
    "- 'LSOA_of_Accident_Location'"
   ]
  }
 ],
 "metadata": {
  "kernelspec": {
   "display_name": "Python 3",
   "language": "python",
   "name": "python3"
  },
  "language_info": {
   "codemirror_mode": {
    "name": "ipython",
    "version": 3
   },
   "file_extension": ".py",
   "mimetype": "text/x-python",
   "name": "python",
   "nbconvert_exporter": "python",
   "pygments_lexer": "ipython3",
   "version": "3.7.1"
  }
 },
 "nbformat": 4,
 "nbformat_minor": 2
}
