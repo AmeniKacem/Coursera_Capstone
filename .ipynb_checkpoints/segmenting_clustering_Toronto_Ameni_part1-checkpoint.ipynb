{
 "cells": [
  {
   "cell_type": "markdown",
   "metadata": {},
   "source": [
    "## Assignment: Segmenting and Clustering Neighborhoods in Toronto - Part 1\n",
    "####   Problem: Create a cleaned and grouped dataframe with the required data using the Wikipedia url https://en.wikipedia.org/wiki/List_of_postal_codes_of_Canada:_M"
   ]
  },
  {
   "cell_type": "code",
   "execution_count": 1,
   "metadata": {},
   "outputs": [],
   "source": [
    "import requests\n",
    "from bs4 import BeautifulSoup"
   ]
  },
  {
   "cell_type": "code",
   "execution_count": 2,
   "metadata": {},
   "outputs": [],
   "source": [
    "res = requests.get(\"https://en.wikipedia.org/wiki/List_of_postal_codes_of_Canada:_M\")\n",
    "soup = BeautifulSoup(res.content, \"html.parser\")\n",
    "table = soup.find(\"table\", class_ = \"wikitable sortable\")"
   ]
  },
  {
   "cell_type": "code",
   "execution_count": 3,
   "metadata": {},
   "outputs": [],
   "source": [
    "postcodes=[]\n",
    "boroughs=[]\n",
    "neighborhoods=[]"
   ]
  },
  {
   "cell_type": "code",
   "execution_count": 4,
   "metadata": {},
   "outputs": [],
   "source": [
    "for row in table.findAll(\"tr\"):\n",
    "    cells = row.findAll(\"td\")\n",
    "    if len(cells)==3: #Only extract table body not heading\n",
    "        postcodes.append(cells[0].find(text=True))\n",
    "        boroughs.append(cells[1].find(text=True))\n",
    "        neighborhoods.append(cells[2].find(text=True))"
   ]
  },
  {
   "cell_type": "code",
   "execution_count": 5,
   "metadata": {},
   "outputs": [
    {
     "name": "stderr",
     "output_type": "stream",
     "text": [
      "C:\\Users\\ameni\\Anaconda3\\lib\\site-packages\\numpy\\_distributor_init.py:32: UserWarning: loaded more than 1 DLL from .libs:\n",
      "C:\\Users\\ameni\\Anaconda3\\lib\\site-packages\\numpy\\.libs\\libopenblas.PYQHXLVVQ7VESDPUVUADXEVJOBGHJPAY.gfortran-win_amd64.dll\n",
      "C:\\Users\\ameni\\Anaconda3\\lib\\site-packages\\numpy\\.libs\\libopenblas.TXA6YQSD3GCQQC22GEQ54J2UDCXDXHWN.gfortran-win_amd64.dll\n",
      "  stacklevel=1)\n"
     ]
    }
   ],
   "source": [
    "#import pandas to convert list to data frame\n",
    "import pandas as pd\n",
    "df=pd.DataFrame(postcodes,columns=[\"PostalCode\"])\n",
    "df[\"Borough\"]=boroughs\n",
    "df[\"Neighborhood\"]=neighborhoods"
   ]
  },
  {
   "cell_type": "markdown",
   "metadata": {},
   "source": [
    "##### Eliminate Postalcodes with Borough \"Not assigned\""
   ]
  },
  {
   "cell_type": "code",
   "execution_count": 10,
   "metadata": {},
   "outputs": [
    {
     "data": {
      "text/html": [
       "<div>\n",
       "<style scoped>\n",
       "    .dataframe tbody tr th:only-of-type {\n",
       "        vertical-align: middle;\n",
       "    }\n",
       "\n",
       "    .dataframe tbody tr th {\n",
       "        vertical-align: top;\n",
       "    }\n",
       "\n",
       "    .dataframe thead th {\n",
       "        text-align: right;\n",
       "    }\n",
       "</style>\n",
       "<table border=\"1\" class=\"dataframe\">\n",
       "  <thead>\n",
       "    <tr style=\"text-align: right;\">\n",
       "      <th></th>\n",
       "      <th>PostalCode</th>\n",
       "      <th>Borough</th>\n",
       "      <th>Neighborhood</th>\n",
       "    </tr>\n",
       "  </thead>\n",
       "  <tbody>\n",
       "    <tr>\n",
       "      <th>0</th>\n",
       "      <td>M1A\\n</td>\n",
       "      <td>Not assigned\\n</td>\n",
       "      <td>\\n</td>\n",
       "    </tr>\n",
       "    <tr>\n",
       "      <th>1</th>\n",
       "      <td>M2A\\n</td>\n",
       "      <td>Not assigned\\n</td>\n",
       "      <td>\\n</td>\n",
       "    </tr>\n",
       "    <tr>\n",
       "      <th>2</th>\n",
       "      <td>M3A\\n</td>\n",
       "      <td>North York\\n</td>\n",
       "      <td>Parkwoods\\n</td>\n",
       "    </tr>\n",
       "    <tr>\n",
       "      <th>3</th>\n",
       "      <td>M4A\\n</td>\n",
       "      <td>North York\\n</td>\n",
       "      <td>Victoria Village\\n</td>\n",
       "    </tr>\n",
       "    <tr>\n",
       "      <th>4</th>\n",
       "      <td>M5A\\n</td>\n",
       "      <td>Downtown Toronto\\n</td>\n",
       "      <td>Regent Park, Harbourfront\\n</td>\n",
       "    </tr>\n",
       "    <tr>\n",
       "      <th>5</th>\n",
       "      <td>M6A\\n</td>\n",
       "      <td>North York\\n</td>\n",
       "      <td>Lawrence Manor, Lawrence Heights\\n</td>\n",
       "    </tr>\n",
       "    <tr>\n",
       "      <th>6</th>\n",
       "      <td>M7A\\n</td>\n",
       "      <td>Downtown Toronto\\n</td>\n",
       "      <td>Queen's Park, Ontario Provincial Government\\n</td>\n",
       "    </tr>\n",
       "    <tr>\n",
       "      <th>7</th>\n",
       "      <td>M8A\\n</td>\n",
       "      <td>Not assigned\\n</td>\n",
       "      <td>\\n</td>\n",
       "    </tr>\n",
       "    <tr>\n",
       "      <th>8</th>\n",
       "      <td>M9A\\n</td>\n",
       "      <td>Etobicoke\\n</td>\n",
       "      <td>Islington Avenue\\n</td>\n",
       "    </tr>\n",
       "    <tr>\n",
       "      <th>9</th>\n",
       "      <td>M1B\\n</td>\n",
       "      <td>Scarborough\\n</td>\n",
       "      <td>Malvern, Rouge\\n</td>\n",
       "    </tr>\n",
       "  </tbody>\n",
       "</table>\n",
       "</div>"
      ],
      "text/plain": [
       "  PostalCode             Borough  \\\n",
       "0      M1A\\n      Not assigned\\n   \n",
       "1      M2A\\n      Not assigned\\n   \n",
       "2      M3A\\n        North York\\n   \n",
       "3      M4A\\n        North York\\n   \n",
       "4      M5A\\n  Downtown Toronto\\n   \n",
       "5      M6A\\n        North York\\n   \n",
       "6      M7A\\n  Downtown Toronto\\n   \n",
       "7      M8A\\n      Not assigned\\n   \n",
       "8      M9A\\n         Etobicoke\\n   \n",
       "9      M1B\\n       Scarborough\\n   \n",
       "\n",
       "                                    Neighborhood  \n",
       "0                                             \\n  \n",
       "1                                             \\n  \n",
       "2                                    Parkwoods\\n  \n",
       "3                             Victoria Village\\n  \n",
       "4                    Regent Park, Harbourfront\\n  \n",
       "5             Lawrence Manor, Lawrence Heights\\n  \n",
       "6  Queen's Park, Ontario Provincial Government\\n  \n",
       "7                                             \\n  \n",
       "8                             Islington Avenue\\n  \n",
       "9                               Malvern, Rouge\\n  "
      ]
     },
     "execution_count": 10,
     "metadata": {},
     "output_type": "execute_result"
    }
   ],
   "source": [
    "# Ignore cells with a borough that is Not assigned\n",
    "df = df[df[\"Borough\"]!=\"Not assigned\"]\n",
    "\n",
    "# If a cell has a borough but a Not assigned neighborhood\n",
    "# then the neighborhood will be the same as the borough\n",
    "\n",
    "df.loc[df['Neighborhood'] == 'Not assigned', 'Neighborhood'] = df['Borough']\n",
    "df = df[df['Borough'] != 'Not assigned\\n']\n",
    "df.head(10)"
   ]
  },
  {
   "cell_type": "markdown",
   "metadata": {},
   "source": [
    "##### Group the dataframe by PostalCode, clean the dataframe and display the number of rows in it"
   ]
  },
  {
   "cell_type": "code",
   "execution_count": 7,
   "metadata": {},
   "outputs": [
    {
     "name": "stdout",
     "output_type": "stream",
     "text": [
      "  PostalCode             Borough  \\\n",
      "0      M1A\\n      Not assigned\\n   \n",
      "1      M2A\\n      Not assigned\\n   \n",
      "2      M3A\\n        North York\\n   \n",
      "3      M4A\\n        North York\\n   \n",
      "4      M5A\\n  Downtown Toronto\\n   \n",
      "5      M6A\\n        North York\\n   \n",
      "6      M7A\\n  Downtown Toronto\\n   \n",
      "7      M8A\\n      Not assigned\\n   \n",
      "8      M9A\\n         Etobicoke\\n   \n",
      "9      M1B\\n       Scarborough\\n   \n",
      "\n",
      "                                    Neighborhood  \n",
      "0                                             \\n  \n",
      "1                                             \\n  \n",
      "2                                    Parkwoods\\n  \n",
      "3                             Victoria Village\\n  \n",
      "4                    Regent Park, Harbourfront\\n  \n",
      "5             Lawrence Manor, Lawrence Heights\\n  \n",
      "6  Queen's Park, Ontario Provincial Government\\n  \n",
      "7                                             \\n  \n",
      "8                             Islington Avenue\\n  \n",
      "9                               Malvern, Rouge\\n  \n"
     ]
    }
   ],
   "source": [
    "df_agg = df.groupby(['PostalCode','Borough'], sort=False).agg(', '.join)\n",
    "df_agg=df_agg.reset_index()\n",
    "df_agg.columns = ['PostalCode', 'Borough', 'Neighborhood']\n",
    "print(df_agg.head(10))"
   ]
  },
  {
   "cell_type": "code",
   "execution_count": 8,
   "metadata": {},
   "outputs": [
    {
     "name": "stdout",
     "output_type": "stream",
     "text": [
      "  PostalCode           Borough                                 Neighborhood\n",
      "0        M1A      Not assigned                                             \n",
      "1        M2A      Not assigned                                             \n",
      "2        M3A        North York                                    Parkwoods\n",
      "3        M4A        North York                             Victoria Village\n",
      "4        M5A  Downtown Toronto                    Regent Park, Harbourfront\n",
      "5        M6A        North York             Lawrence Manor, Lawrence Heights\n",
      "6        M7A  Downtown Toronto  Queen's Park, Ontario Provincial Government\n",
      "7        M8A      Not assigned                                             \n",
      "8        M9A         Etobicoke                             Islington Avenue\n",
      "9        M1B       Scarborough                               Malvern, Rouge\n"
     ]
    }
   ],
   "source": [
    "# Clean the Neighborhood text by removing new lines \"\\n\"\n",
    "df_agg = df_agg.replace('\\n','', regex=True)\n",
    "print(df_agg.head(10))"
   ]
  },
  {
   "cell_type": "code",
   "execution_count": 9,
   "metadata": {},
   "outputs": [
    {
     "name": "stdout",
     "output_type": "stream",
     "text": [
      "Number of lines in the dataframe: 180\n"
     ]
    }
   ],
   "source": [
    "print('Number of lines in the dataframe:', df_agg.shape[0])"
   ]
  },
  {
   "cell_type": "code",
   "execution_count": null,
   "metadata": {},
   "outputs": [],
   "source": []
  }
 ],
 "metadata": {
  "kernelspec": {
   "display_name": "Python 3",
   "language": "python",
   "name": "python3"
  },
  "language_info": {
   "codemirror_mode": {
    "name": "ipython",
    "version": 3
   },
   "file_extension": ".py",
   "mimetype": "text/x-python",
   "name": "python",
   "nbconvert_exporter": "python",
   "pygments_lexer": "ipython3",
   "version": "3.7.1"
  }
 },
 "nbformat": 4,
 "nbformat_minor": 2
}
