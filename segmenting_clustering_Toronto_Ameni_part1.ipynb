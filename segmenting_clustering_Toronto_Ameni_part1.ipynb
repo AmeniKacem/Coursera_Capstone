{
 "cells": [
  {
   "cell_type": "markdown",
   "metadata": {},
   "source": [
    "## Assignment: Segmenting and Clustering Neighborhoods in Toronto - Part 1\n",
    "####   Problem: Create a cleaned and grouped dataframe with the required data using the Wikipedia url https://en.wikipedia.org/wiki/List_of_postal_codes_of_Canada:_M"
   ]
  },
  {
   "cell_type": "code",
   "execution_count": 15,
   "metadata": {},
   "outputs": [],
   "source": [
    "import requests\n",
    "from bs4 import BeautifulSoup"
   ]
  },
  {
   "cell_type": "code",
   "execution_count": 16,
   "metadata": {},
   "outputs": [],
   "source": [
    "res = requests.get(\"https://en.wikipedia.org/wiki/List_of_postal_codes_of_Canada:_M\")\n",
    "soup = BeautifulSoup(res.content, \"html.parser\")\n",
    "table = soup.find(\"table\", class_ = \"wikitable sortable\")"
   ]
  },
  {
   "cell_type": "code",
   "execution_count": 17,
   "metadata": {},
   "outputs": [],
   "source": [
    "postcodes=[]\n",
    "boroughs=[]\n",
    "neighborhoods=[]"
   ]
  },
  {
   "cell_type": "code",
   "execution_count": 18,
   "metadata": {},
   "outputs": [],
   "source": [
    "for row in table.findAll(\"tr\"):\n",
    "    cells = row.findAll(\"td\")\n",
    "    if len(cells)==3: #Only extract table body not heading\n",
    "        postcodes.append(cells[0].find(text=True))\n",
    "        boroughs.append(cells[1].find(text=True))\n",
    "        neighborhoods.append(cells[2].find(text=True))"
   ]
  },
  {
   "cell_type": "code",
   "execution_count": 19,
   "metadata": {},
   "outputs": [],
   "source": [
    "#import pandas to convert list to data frame\n",
    "import pandas as pd\n",
    "df=pd.DataFrame(postcodes,columns=[\"PostalCode\"])\n",
    "df[\"Borough\"]=boroughs\n",
    "df[\"Neighborhood\"]=neighborhoods"
   ]
  },
  {
   "cell_type": "markdown",
   "metadata": {},
   "source": [
    "##### Eliminate Postalcodes with Borough \"Not assigned\""
   ]
  },
  {
   "cell_type": "code",
   "execution_count": 20,
   "metadata": {},
   "outputs": [
    {
     "data": {
      "text/html": [
       "<div>\n",
       "<style scoped>\n",
       "    .dataframe tbody tr th:only-of-type {\n",
       "        vertical-align: middle;\n",
       "    }\n",
       "\n",
       "    .dataframe tbody tr th {\n",
       "        vertical-align: top;\n",
       "    }\n",
       "\n",
       "    .dataframe thead th {\n",
       "        text-align: right;\n",
       "    }\n",
       "</style>\n",
       "<table border=\"1\" class=\"dataframe\">\n",
       "  <thead>\n",
       "    <tr style=\"text-align: right;\">\n",
       "      <th></th>\n",
       "      <th>PostalCode</th>\n",
       "      <th>Borough</th>\n",
       "      <th>Neighborhood</th>\n",
       "    </tr>\n",
       "  </thead>\n",
       "  <tbody>\n",
       "    <tr>\n",
       "      <th>2</th>\n",
       "      <td>M3A</td>\n",
       "      <td>North York</td>\n",
       "      <td>Parkwoods</td>\n",
       "    </tr>\n",
       "    <tr>\n",
       "      <th>3</th>\n",
       "      <td>M4A</td>\n",
       "      <td>North York</td>\n",
       "      <td>Victoria Village</td>\n",
       "    </tr>\n",
       "    <tr>\n",
       "      <th>4</th>\n",
       "      <td>M5A</td>\n",
       "      <td>Downtown Toronto</td>\n",
       "      <td>Harbourfront</td>\n",
       "    </tr>\n",
       "    <tr>\n",
       "      <th>5</th>\n",
       "      <td>M6A</td>\n",
       "      <td>North York</td>\n",
       "      <td>Lawrence Heights</td>\n",
       "    </tr>\n",
       "    <tr>\n",
       "      <th>6</th>\n",
       "      <td>M6A</td>\n",
       "      <td>North York</td>\n",
       "      <td>Lawrence Manor</td>\n",
       "    </tr>\n",
       "    <tr>\n",
       "      <th>7</th>\n",
       "      <td>M7A</td>\n",
       "      <td>Downtown Toronto</td>\n",
       "      <td>Queen's Park</td>\n",
       "    </tr>\n",
       "    <tr>\n",
       "      <th>9</th>\n",
       "      <td>M9A</td>\n",
       "      <td>Etobicoke</td>\n",
       "      <td>Islington Avenue</td>\n",
       "    </tr>\n",
       "    <tr>\n",
       "      <th>10</th>\n",
       "      <td>M1B</td>\n",
       "      <td>Scarborough</td>\n",
       "      <td>Rouge</td>\n",
       "    </tr>\n",
       "    <tr>\n",
       "      <th>11</th>\n",
       "      <td>M1B</td>\n",
       "      <td>Scarborough</td>\n",
       "      <td>Malvern</td>\n",
       "    </tr>\n",
       "    <tr>\n",
       "      <th>13</th>\n",
       "      <td>M3B</td>\n",
       "      <td>North York</td>\n",
       "      <td>Don Mills North\\n</td>\n",
       "    </tr>\n",
       "  </tbody>\n",
       "</table>\n",
       "</div>"
      ],
      "text/plain": [
       "   PostalCode           Borough       Neighborhood\n",
       "2         M3A        North York          Parkwoods\n",
       "3         M4A        North York   Victoria Village\n",
       "4         M5A  Downtown Toronto       Harbourfront\n",
       "5         M6A        North York   Lawrence Heights\n",
       "6         M6A        North York     Lawrence Manor\n",
       "7         M7A  Downtown Toronto       Queen's Park\n",
       "9         M9A         Etobicoke   Islington Avenue\n",
       "10        M1B       Scarborough              Rouge\n",
       "11        M1B       Scarborough            Malvern\n",
       "13        M3B        North York  Don Mills North\\n"
      ]
     },
     "execution_count": 20,
     "metadata": {},
     "output_type": "execute_result"
    }
   ],
   "source": [
    "# Ignore cells with a borough that is Not assigned\n",
    "df = df[df[\"Borough\"]!=\"Not assigned\"]\n",
    "\n",
    "# If a cell has a borough but a Not assigned neighborhood\n",
    "# then the neighborhood will be the same as the borough\n",
    "\n",
    "df.loc[df['Neighborhood'] == 'Not assigned', 'Neighborhood'] = df['Borough']\n",
    "df.head(10)"
   ]
  },
  {
   "cell_type": "markdown",
   "metadata": {},
   "source": [
    "##### Group the dataframe by PostalCode, clean the dataframe and display the number of rows in it"
   ]
  },
  {
   "cell_type": "code",
   "execution_count": 28,
   "metadata": {},
   "outputs": [
    {
     "name": "stdout",
     "output_type": "stream",
     "text": [
      "  PostalCode           Borough                      Neighborhood\n",
      "0        M3A        North York                         Parkwoods\n",
      "1        M4A        North York                  Victoria Village\n",
      "2        M5A  Downtown Toronto                      Harbourfront\n",
      "3        M6A        North York  Lawrence Heights, Lawrence Manor\n",
      "4        M7A  Downtown Toronto                      Queen's Park\n",
      "5        M9A         Etobicoke                  Islington Avenue\n",
      "6        M1B       Scarborough                    Rouge, Malvern\n",
      "7        M3B        North York                 Don Mills North\\n\n",
      "8        M4B         East York   Woodbine Gardens, Parkview Hill\n",
      "9        M5B  Downtown Toronto      Ryerson\\n, Garden District\\n\n"
     ]
    }
   ],
   "source": [
    "df_agg = df.groupby(['PostalCode','Borough'], sort=False).agg(', '.join)\n",
    "df_agg=df_agg.reset_index()\n",
    "df_agg.columns = ['PostalCode', 'Borough', 'Neighborhood']\n",
    "print(df_agg.head(10))"
   ]
  },
  {
   "cell_type": "code",
   "execution_count": 29,
   "metadata": {},
   "outputs": [
    {
     "name": "stdout",
     "output_type": "stream",
     "text": [
      "  PostalCode           Borough                      Neighborhood\n",
      "0        M3A        North York                         Parkwoods\n",
      "1        M4A        North York                  Victoria Village\n",
      "2        M5A  Downtown Toronto                      Harbourfront\n",
      "3        M6A        North York  Lawrence Heights, Lawrence Manor\n",
      "4        M7A  Downtown Toronto                      Queen's Park\n",
      "5        M9A         Etobicoke                  Islington Avenue\n",
      "6        M1B       Scarborough                    Rouge, Malvern\n",
      "7        M3B        North York                   Don Mills North\n",
      "8        M4B         East York   Woodbine Gardens, Parkview Hill\n",
      "9        M5B  Downtown Toronto          Ryerson, Garden District\n"
     ]
    }
   ],
   "source": [
    "# Clean the Neighborhood text by removing new lines \"\\n\"\n",
    "df_agg = df_agg.replace('\\n','', regex=True)\n",
    "print(df_agg.head(10))"
   ]
  },
  {
   "cell_type": "code",
   "execution_count": 30,
   "metadata": {},
   "outputs": [
    {
     "name": "stdout",
     "output_type": "stream",
     "text": [
      "Number of lines in the dataframe: 103\n"
     ]
    }
   ],
   "source": [
    "print('Number of lines in the dataframe:', df_agg.shape[0])"
   ]
  }
 ],
 "metadata": {
  "kernelspec": {
   "display_name": "Python 3",
   "language": "python",
   "name": "python3"
  },
  "language_info": {
   "codemirror_mode": {
    "name": "ipython",
    "version": 3
   },
   "file_extension": ".py",
   "mimetype": "text/x-python",
   "name": "python",
   "nbconvert_exporter": "python",
   "pygments_lexer": "ipython3",
   "version": "3.7.1"
  }
 },
 "nbformat": 4,
 "nbformat_minor": 2
}
