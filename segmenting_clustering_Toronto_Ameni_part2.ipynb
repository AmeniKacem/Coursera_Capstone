{
 "cells": [
  {
   "cell_type": "markdown",
   "metadata": {},
   "source": [
    "## Assignment: Segmenting and Clustering Neighborhoods in Toronto - Part 2\n",
    "#### Problem: Now that you have built a dataframe of the postal code of each neighborhood along with the borough name and neighborhood name, in order to utilize the Foursquare location data, we need to get the latitude and the longitude coordinates of each neighborhood. \n",
    "\n",
    "##### An attempt to use the geocoder library but it was too slow and no results displayed"
   ]
  },
  {
   "cell_type": "code",
   "execution_count": 13,
   "metadata": {},
   "outputs": [
    {
     "name": "stdout",
     "output_type": "stream",
     "text": [
      "  PostalCode           Borough                      Neighborhood\n",
      "0        M3A        North York                         Parkwoods\n",
      "1        M4A        North York                  Victoria Village\n",
      "2        M5A  Downtown Toronto                      Harbourfront\n",
      "3        M6A        North York  Lawrence Heights, Lawrence Manor\n",
      "4        M7A  Downtown Toronto                      Queen's Park\n"
     ]
    }
   ],
   "source": [
    "# the result of the first part of the assignement; used to have the initial dataframe\n",
    "import requests\n",
    "from bs4 import BeautifulSoup\n",
    "import pandas as pd\n",
    "# Create a dataframe from the wikipedia table\n",
    "res = requests.get(\"https://en.wikipedia.org/wiki/List_of_postal_codes_of_Canada:_M\")\n",
    "soup = BeautifulSoup(res.content, \"html.parser\")\n",
    "table = soup.find(\"table\", class_ = \"wikitable sortable\")\n",
    "postcodes=[]\n",
    "boroughs=[]\n",
    "neighborhoods=[]\n",
    "for row in table.findAll(\"tr\"):\n",
    "    cells = row.findAll(\"td\")\n",
    "    if len(cells)==3: #Only extract table body not heading\n",
    "        postcodes.append(cells[0].find(text=True))\n",
    "        boroughs.append(cells[1].find(text=True))\n",
    "        neighborhoods.append(cells[2].find(text=True))\n",
    "# Use lists to create the dataframe\n",
    "df=pd.DataFrame(postcodes,columns=[\"PostalCode\"])\n",
    "df[\"Borough\"]=boroughs\n",
    "df[\"Neighborhood\"]=neighborhoods\n",
    "df = df[df[\"Borough\"]!=\"Not assigned\"]\n",
    "# create a grouped dataframe by Postalcode\n",
    "df = df.groupby(['PostalCode','Borough'], sort=False).agg(', '.join)\n",
    "df = df.reset_index()\n",
    "df.columns = ['PostalCode', 'Borough', 'Neighborhood']\n",
    "# Clean the Neighborhood text by removing new lines \"\\n\"\n",
    "df = df.replace('\\n','', regex=True)\n",
    "print(df.head())"
   ]
  },
  {
   "cell_type": "code",
   "execution_count": 14,
   "metadata": {},
   "outputs": [
    {
     "data": {
      "text/plain": [
       "'import geocoder # import geocoder\\n\\n# initialize your variable to None\\nlat_lng_coords = None\\n\\n# loop until you get the coordinates\\nwhile(lat_lng_coords is None):\\n  g = geocoder.google(\\'{}, Toronto, Ontario\\'.format(\"M5G\"))\\n  lat_lng_coords = g.latlng\\n\\nlatitude = lat_lng_coords[0]\\nlongitude = lat_lng_coords[1]\\nprint(latitude, longitude)'"
      ]
     },
     "execution_count": 14,
     "metadata": {},
     "output_type": "execute_result"
    }
   ],
   "source": [
    "# An attempt to use the grocoder, but there were no results using this library\n",
    "'''import geocoder # import geocoder\n",
    "\n",
    "# initialize your variable to None\n",
    "lat_lng_coords = None\n",
    "\n",
    "# loop until you get the coordinates\n",
    "while(lat_lng_coords is None):\n",
    "  g = geocoder.google('{}, Toronto, Ontario'.format(\"M5G\"))\n",
    "  lat_lng_coords = g.latlng\n",
    "\n",
    "latitude = lat_lng_coords[0]\n",
    "longitude = lat_lng_coords[1]\n",
    "print(latitude, longitude)'''"
   ]
  },
  {
   "cell_type": "code",
   "execution_count": 15,
   "metadata": {},
   "outputs": [
    {
     "name": "stdout",
     "output_type": "stream",
     "text": [
      "  PostalCode   Latitude  Longitude\n",
      "0        M1B  43.806686 -79.194353\n",
      "1        M1C  43.784535 -79.160497\n",
      "2        M1E  43.763573 -79.188711\n",
      "3        M1G  43.770992 -79.216917\n",
      "4        M1H  43.773136 -79.239476\n"
     ]
    }
   ],
   "source": [
    "import io\n",
    "url=\"https://cocl.us/Geospatial_data\"\n",
    "s=requests.get(url).content\n",
    "df_new=pd.read_csv(io.StringIO(s.decode('utf-8')))\n",
    "df_new.rename(columns = {'Postal Code':'PostalCode'}, inplace = True)\n",
    "print(df_new.head())"
   ]
  },
  {
   "cell_type": "code",
   "execution_count": 16,
   "metadata": {},
   "outputs": [
    {
     "name": "stdout",
     "output_type": "stream",
     "text": [
      "  PostalCode           Borough                      Neighborhood   Latitude  \\\n",
      "0        M3A        North York                         Parkwoods  43.753259   \n",
      "1        M4A        North York                  Victoria Village  43.725882   \n",
      "2        M5A  Downtown Toronto                      Harbourfront  43.654260   \n",
      "3        M6A        North York  Lawrence Heights, Lawrence Manor  43.718518   \n",
      "4        M7A  Downtown Toronto                      Queen's Park  43.662301   \n",
      "\n",
      "   Longitude  \n",
      "0 -79.329656  \n",
      "1 -79.315572  \n",
      "2 -79.360636  \n",
      "3 -79.464763  \n",
      "4 -79.389494  \n"
     ]
    }
   ],
   "source": [
    "# Create a dataframe containig both information from the first dataframe df (Postalcode, Borough and Neighborhood)\n",
    "# and from the second one df_new (Latitude and Longitude)\n",
    "df_merged = df.merge(df_new, on=\"PostalCode\", how = 'inner')\n",
    "print(df_merged.head())"
   ]
  }
 ],
 "metadata": {
  "kernelspec": {
   "display_name": "Python 3",
   "language": "python",
   "name": "python3"
  },
  "language_info": {
   "codemirror_mode": {
    "name": "ipython",
    "version": 3
   },
   "file_extension": ".py",
   "mimetype": "text/x-python",
   "name": "python",
   "nbconvert_exporter": "python",
   "pygments_lexer": "ipython3",
   "version": "3.7.1"
  }
 },
 "nbformat": 4,
 "nbformat_minor": 2
}
