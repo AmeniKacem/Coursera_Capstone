{
 "cells": [
  {
   "cell_type": "markdown",
   "metadata": {},
   "source": [
    "# Assignment: Capstone Project - The Battle of Neighborhoods (Week 1)"
   ]
  },
  {
   "cell_type": "markdown",
   "metadata": {},
   "source": [
    "### 1. Introduction & Business Problem"
   ]
  },
  {
   "cell_type": "markdown",
   "metadata": {},
   "source": [
    "For opening a new restaurant or a coffee shop, having a good menu and professional staff is important to success. However, these are not the only things to consider. Having a good location can give the business another push toward success.\n",
    "\n",
    "In this context, a client would like to open a new Coffee Shop in London city. The main task is to find the best location in London that fits the client's need and criteria. As the client is French and the coffee shop as well, one of the criteria that the location will be around french restaurant. This will lead to have people that are interested in French culture and cuisine.\n",
    "Moreover, the location should also be close to pubs and hotels.\n"
   ]
  },
  {
   "cell_type": "markdown",
   "metadata": {},
   "source": [
    "### 2. Data"
   ]
  },
  {
   "cell_type": "markdown",
   "metadata": {},
   "source": [
    "We will use, in this project, the list of London's main streets provided by https://www.latlong.net/category/streets-235-17.html. Thus, we can have the longitude and latitude for each street.\n",
    "Then, we can use Foursquare API to collect relevant information about all venues of the selected streets.\n",
    "\n",
    "For each street, we have the name, latitude and longitude.\n",
    "\n",
    "Thanks to Foursquare API, we will have for each streets, the top-N venues.\n",
    "We will focus on the client's criteria. So, we will focus on the following venues:\n",
    "- Coffee shops\n",
    "- French Restaurants\n",
    "- Hotels\n",
    "- Pubs\n",
    "\n",
    "The streets that will be selected to answer this business need, will have as much as possible from those criteria."
   ]
  }
 ],
 "metadata": {
  "kernelspec": {
   "display_name": "Python 3",
   "language": "python",
   "name": "python3"
  },
  "language_info": {
   "codemirror_mode": {
    "name": "ipython",
    "version": 3
   },
   "file_extension": ".py",
   "mimetype": "text/x-python",
   "name": "python",
   "nbconvert_exporter": "python",
   "pygments_lexer": "ipython3",
   "version": "3.7.4"
  }
 },
 "nbformat": 4,
 "nbformat_minor": 4
}
